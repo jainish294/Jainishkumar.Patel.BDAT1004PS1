{
 "cells": [
  {
   "cell_type": "markdown",
   "id": "46ce1424-ae3d-43de-a072-2d23fe32cf45",
   "metadata": {},
   "source": [
    "Question 1 C#\n",
    "What data type is each of the following?"
   ]
  },
  {
   "cell_type": "markdown",
   "id": "16a39e0a-2e84-40e8-8f95-339d98c5c9f7",
   "metadata": {},
   "source": [
    "5: 'int' (Integer)\n",
    "\n",
    "5.0: 'double' (Double-precision floating-point number)\n",
    "\n",
    "5 > 1: 'bool' (Boolean)\n",
    "\n",
    "'5': 'char' (Character)\n",
    "\n",
    "5 * 2: 'int' (Integer)\n",
    "\n",
    "'5' * 2: This will result in an 'int'. In C#, multiplying a 'char' by an integer returns the ASCII value of the character ('5' is 53) multiplied by 2, result is 106.\n",
    "\n",
    "'5' + '2': This will result in an 'int' because adding two 'char' values in C# combines their ASCII values. ('5' is 53, '2' is 50, so 53 + 50 = 103')\n",
    "\n",
    "5 / 2: 'int' (Integer). In C#, this will perform integer division.\n",
    "\n",
    "5 % 2: 'int' (Integer).\n",
    "\n",
    "{5, 2, 1}: \n",
    "\n",
    "5 == 3: 'bool (Boolean).'True' or 'False'.\n",
    "\n",
    "Pi (the number): 'double' (Double-precision floating-point number)."
   ]
  },
  {
   "cell_type": "markdown",
   "id": "02430bb4-298e-4c67-9168-c8a3bb6fc201",
   "metadata": {},
   "source": [
    "Write (and evaluate) C# expressions that answer these questions: \n",
    "a. How many letters are there in 'Supercalifragilisticexpialidocious'?"
   ]
  },
  {
   "cell_type": "markdown",
   "id": "ae32c212-dc93-4ca5-a4d0-3876d5a009fb",
   "metadata": {},
   "source": [
    "using System;\n",
    "\n",
    "class Count\n",
    "{\n",
    "    static void Main()\n",
    "    {\n",
    "        string word = \"Supercalifragilisticexpialidocious\";\n",
    "        int length = word.Length;// word count\n",
    "        \n",
    "        Console.WriteLine($\"The number of letters in '{word}' is: {length}\");// print word and counts\n",
    "    }\n",
    "}"
   ]
  },
  {
   "cell_type": "markdown",
   "id": "74104f5d-11ec-4a9e-badf-b5b9818e8748",
   "metadata": {},
   "source": [
    "The number of letters in 'Supercalifragilisticexpialidocious' is: 34"
   ]
  },
  {
   "cell_type": "markdown",
   "id": "aa8f1975-6618-41e1-9dfa-0980e4f4fad8",
   "metadata": {},
   "source": [
    "b. Does 'Supercalifragilisticexpialidocious' contain 'ice' as a substring?"
   ]
  },
  {
   "cell_type": "markdown",
   "id": "4baa4e46-b34c-48e4-9748-62cd8a7b0e04",
   "metadata": {},
   "source": [
    "\n",
    "using System;\n",
    "\n",
    "class Program\n",
    "{\n",
    "    static void Main()\n",
    "    {\n",
    "        string word = \"Supercalifragilisticexpialidocious\";\n",
    "        string substring = \"ice\";\n",
    "\n",
    "        // Check if the substring exists in the word\n",
    "        if (word.Contains(substring))\n",
    "        {\n",
    "            Console.WriteLine($\"Yes, '{substring}' is a substring of '{word}'.\");\n",
    "        }\n",
    "        else\n",
    "        {\n",
    "            Console.WriteLine($\"No, '{substring}' is not a substring of '{word}'.\");\n",
    "        }\n",
    "    }\n",
    "}\n"
   ]
  },
  {
   "cell_type": "markdown",
   "id": "c1d68fd0-74b1-4573-9c57-537e8f0b84d3",
   "metadata": {},
   "source": [
    "Yes, 'ice' is a substring of 'Supercalifragilisticexpialidocious'."
   ]
  },
  {
   "cell_type": "markdown",
   "id": "d895ad7e-3fed-4526-abd1-ff1b61fe54ec",
   "metadata": {},
   "source": [
    "c. Which of the following words is the longest: Supercalifragilisticexpialidocious, Honorificabilitudinitatibus, or Bababadalgharaghtakamminarronnkonn?"
   ]
  },
  {
   "cell_type": "markdown",
   "id": "c6473c8d-4b4d-4ad3-a81e-8084fb7194a1",
   "metadata": {},
   "source": [
    "using System;\n",
    "\n",
    "class Program\n",
    "{\n",
    "    static void Main()\n",
    "    {\n",
    "        // Define the words\n",
    "        string word1 = \"Supercalifragilisticexpialidocious\";\n",
    "        string word2 = \"Honorificabilitudinitatibus\";\n",
    "        string word3 = \"Bababadalgharaghtakamminarronnkonn\";\n",
    "\n",
    "        // Find the lengths of each word\n",
    "        int length1 = word1.Length;\n",
    "        int length2 = word2.Length;\n",
    "        int length3 = word3.Length;\n",
    "\n",
    "        // Display the lengths\n",
    "        Console.WriteLine($\"Length of '{word1}': {length1}\");\n",
    "        Console.WriteLine($\"Length of '{word2}': {length2}\");\n",
    "        Console.WriteLine($\"Length of '{word3}': {length3}\");\n",
    "\n",
    "        // Determine the longest word\n",
    "        string longestWord;\n",
    "        if (length1 >= length2 && length1 >= length3)\n",
    "        {\n",
    "            longestWord = word1;\n",
    "        }\n",
    "        else if (length2 >= length1 && length2 >= length3)\n",
    "        {\n",
    "            longestWord = word2;\n",
    "        }\n",
    "        else\n",
    "        {\n",
    "            longestWord = word3;\n",
    "        }\n",
    "\n",
    "        // Display the longest word\n",
    "        Console.WriteLine($\"\\nThe longest word is: '{longestWord}' with {longestWord.Length} characters.\");\n",
    "    }\n",
    "}\n"
   ]
  },
  {
   "cell_type": "markdown",
   "id": "59034f50-7b86-4aa1-8d12-e1e891941692",
   "metadata": {},
   "source": [
    "Length of 'Supercalifragilisticexpialidocious': 34\r\n",
    "Length of 'Honorificabilitudinitatibus': 27\r\n",
    "Length of 'Bababadalgharaghtakamminarronnkonn': 34\r\n",
    "\r\n",
    "The longest word is: 'Supercalifragilisticexpialidocious' with 34 characters."
   ]
  },
  {
   "cell_type": "markdown",
   "id": "26e2060e-4fd3-49d3-8954-7debcf651027",
   "metadata": {},
   "source": [
    "d. Which composer comes first in the dictionary: 'Berlioz', 'Borodin', 'Brian', 'Bartok', 'Bellini', 'Buxtehude', 'Bernstein'. Which one comes last?"
   ]
  },
  {
   "cell_type": "markdown",
   "id": "1d1d89b0-5ed5-44aa-819d-6dde07d7ab68",
   "metadata": {},
   "source": [
    "using System;\n",
    "\n",
    "class Program\n",
    "{\n",
    "    static void Main()\n",
    "    {\n",
    "        // List of composers\n",
    "        string[] composers = { \"Berlioz\", \"Borodin\", \"Brian\", \"Bartok\", \"Bellini\", \"Buxtehude\", \"Bernstein\" };\n",
    "\n",
    "        // Sort the composers alphabetically\n",
    "        Array.Sort(composers);\n",
    "\n",
    "        // Display the first and last composer\n",
    "        Console.WriteLine($\"The composer that comes first is: {composers[0]}\");\n",
    "        Console.WriteLine($\"The composer that comes last is: {composers[composers.Length - 1]}\");\n",
    "    }\n",
    "}\n"
   ]
  },
  {
   "cell_type": "code",
   "execution_count": null,
   "id": "9a0bd538-63d7-4dfc-9c74-8b0af81dbbb7",
   "metadata": {},
   "outputs": [],
   "source": [
    "The composer that comes first is: Bartok\n",
    "The composer that comes last is: Buxtehude"
   ]
  },
  {
   "cell_type": "markdown",
   "id": "d20aecb2-b266-43af-bffc-de60b084e415",
   "metadata": {},
   "source": [
    "Question 3 C# Implement function triangleArea(a,b,c) that takes as input the lengths of the 3 sides of a triangle and returns the area of the triangle. By Heron's formula, the area of a triangle with side lengths a, b, and c is s(s − a)(s − b)(s − c), where s = (a + b + c)/2."
   ]
  },
  {
   "cell_type": "markdown",
   "id": "a8d75f91-4910-4666-84b2-e58de25c1bcd",
   "metadata": {},
   "source": [
    "using System;\r\n",
    "\r\n",
    "class Rect\r\n",
    "{\r\n",
    "    static void Main()\r\n",
    "    {\r\n",
    "        // Get user input for the sides of the triangle\r\n",
    "        Console.Write(\"Enter the length of side a: \");\r\n",
    "        double a = Convert.ToDouble(Console.ReadLine());\r\n",
    "\r\n",
    "        Console.Write(\"Enter the length of side b: \");\r\n",
    "        double b = Convert.ToDouble(Console.ReadLine());\r\n",
    "\r\n",
    "        Console.Write(\"Enter the length of side c: \");\r\n",
    "        double c = Convert.ToDouble(Console.ReadLine());\r\n",
    "\r\n",
    "        // Calculate the area of the triangle\r\n",
    "        double area = triangleArea(a, b, c);\r\n",
    "        Console.WriteLine($\"The area of the triangle with sides {a}, {b}, and {c} is: {area}\");\r\n",
    "    }\r\n",
    "\r\n",
    "    static double triangleArea(double a, double b, double c)\r\n",
    "    {\r\n",
    "        // Calculate the semi-perimeter (s)\r\n",
    "        double s = (a + b + c) / 2;\r\n",
    "\r\n",
    "        // Calculate the area using Heron's formula\r\n",
    "        double area = Math.Sqrt(s * (s - a) * (s - b) * (s - c));\r\n",
    "\r\n",
    "        return area;\r\n",
    "    }\r\n",
    "}\r\n"
   ]
  },
  {
   "cell_type": "markdown",
   "id": "b4c39494-ae29-4950-b8e8-1f8aee47a57b",
   "metadata": {},
   "source": [
    "Enter the length of side a: 2\n",
    "Enter the length of side b: 2\n",
    "Enter the length of side c: 2\n",
    "The area of the triangle with sides 2, 2, and 2 is: 1.73205080756888"
   ]
  },
  {
   "cell_type": "markdown",
   "id": "2f4d9834-0558-4e17-8df3-533468dba58f",
   "metadata": {},
   "source": [
    "Question 4 C# Write a program in C# Sharp to separate odd and even integers in separate arrays."
   ]
  },
  {
   "cell_type": "markdown",
   "id": "1df72a12-e40a-4429-bf14-95cc792bc56e",
   "metadata": {},
   "source": [
    "using System;\r\n",
    "\r\n",
    "class rect\r\n",
    "{\r\n",
    "    static void Main()\r\n",
    "    {\r\n",
    "        // Ask the user for the number of elements\r\n",
    "        Console.Write(\"Enter the number of elements: \");\r\n",
    "        int n = Convert.ToInt32(Console.ReadLine());\r\n",
    "\r\n",
    "        // Initialize arrays for even and odd numbers\r\n",
    "        int[] numbers = new int[n];\r\n",
    "        int[] evenNumbers = new int[n];\r\n",
    "        int[] oddNumbers = new int[n];\r\n",
    "        int evenCount = 0, oddCount = 0;\r\n",
    "\r\n",
    "        // Get user input for the numbers\r\n",
    "        Console.WriteLine(\"Enter the numbers:\");\r\n",
    "        for (int i = 0; i < n; i++)\r\n",
    "        {\r\n",
    "            Console.Write($\"Number {i + 1}: \");\r\n",
    "            numbers[i] = Convert.ToInt32(Console.ReadLine());\r\n",
    "\r\n",
    "            // Separate even and odd numbers\r\n",
    "            if (numbers[i] % 2 == 0)\r\n",
    "            {\r\n",
    "                evenNumbers[evenCount] = numbers[i];\r\n",
    "                evenCount++;\r\n",
    "            }\r\n",
    "            else\r\n",
    "            {\r\n",
    "                oddNumbers[oddCount] = numbers[i];\r\n",
    "                oddCount++;\r\n",
    "            }\r\n",
    "        }\r\n",
    "\r\n",
    "        // Display even numbers\r\n",
    "        Console.WriteLine(\"\\nEven numbers:\");\r\n",
    "        for (int i = 0; i < evenCount; i++)\r\n",
    "        {\r\n",
    "            Console.Write(evenNumbers[i] + \" \");\r\n",
    "        }\r\n",
    "\r\n",
    "        // Display odd numbers\r\n",
    "        Console.WriteLine(\"\\n\\nOdd numbers:\");\r\n",
    "        for (int i = 0; i < oddCount; i++)\r\n",
    "        {\r\n",
    "            Console.Write(oddNumbers[i] + \" \");\r\n",
    "        }\r\n",
    "    }\r\n",
    "}\r\n"
   ]
  },
  {
   "cell_type": "markdown",
   "id": "a45efdab-1831-47a6-98bd-597d090f3836",
   "metadata": {},
   "source": [
    "Enter the number of elements: 2\r\n",
    "Enter the numbers:\r\n",
    "Number 1: 3\r\n",
    "Number 2: 4\r\n",
    "\r\n",
    "Even numbers:\r\n",
    "4 \r\n",
    "\r\n",
    "Odd numbers:\r\n",
    "3 "
   ]
  },
  {
   "cell_type": "markdown",
   "id": "8ce5ed90-916e-4253-a7ee-b634018b5570",
   "metadata": {},
   "source": [
    "Question 5 C#\n",
    "a. Write a function inside(x,y,x1,y1,x2,y2) that returns True or False depending on whether the point (x,y) lies in the rectangle with lower left corner (x1,y1) and upper right corner (x2,y2)."
   ]
  },
  {
   "cell_type": "markdown",
   "id": "29b95be1-f187-4333-a982-034a06c18207",
   "metadata": {},
   "source": [
    "using System;\n",
    "\n",
    "class Rect\n",
    "{\n",
    "    // Function to check if a point (x, y) is inside the rectangle defined by (x1, y1) and (x2, y2)\n",
    "    static bool Inside(double x, double y, double x1, double y1, double x2, double y2)\n",
    "    {\n",
    "        return (x >= x1 && x <= x2 && y >= y1 && y <= y2);\n",
    "    }\n",
    "\n",
    "    static void Main()\n",
    "    {\n",
    "        // take user input from user\n",
    "        Console.WriteLine(\"Enter the x and y coordinates of the point, followed by the coordinates of the rectangle (x1, y1, x2, y2):\");\n",
    "        string input = Console.ReadLine();\n",
    "        \n",
    "        // split the input string into an array of strings\n",
    "        string[] values = input.Split(',');\n",
    "\n",
    "        // Ensure there are exactly 6 values\n",
    "        if (values.Length != 6)\n",
    "        {\n",
    "            Console.WriteLine(\"Please enter exactly 6 values separated by commas.\");\n",
    "            return;\n",
    "        }\n",
    "\n",
    "        // convert the values to doubles\n",
    "        double x = Convert.ToDouble(values[0].Trim());\n",
    "        double y = Convert.ToDouble(values[1].Trim());\n",
    "        double x1 = Convert.ToDouble(values[2].Trim());\n",
    "        double y1 = Convert.ToDouble(values[3].Trim());\n",
    "        double x2 = Convert.ToDouble(values[4].Trim());\n",
    "        double y2 = Convert.ToDouble(values[5].Trim());\n",
    "\n",
    "        bool result = Inside(x, y, x1, y1, x2, y2);\n",
    "\n",
    "        // Output the result as True or False\n",
    "        Console.WriteLine(result ? \"True\" : \"False\");\n",
    "    }\n",
    "}\n"
   ]
  },
  {
   "cell_type": "markdown",
   "id": "c7abaa5c-6c81-43cc-8a9d-b7282d2741f8",
   "metadata": {},
   "source": [
    "Enter the x and y coordinates of the point, followed by the coordinates of the rectangle (x1, y1, x2, y2):\n",
    "1,1,0,0,2,3\n",
    "True"
   ]
  },
  {
   "cell_type": "markdown",
   "id": "a455585e-e42d-4c98-818f-7225bd223aca",
   "metadata": {},
   "source": [
    "b. Use function inside() from part a. to write an expression that tests whether the point (1,1) lies in both of the following rectangles: one with lower left corner (0.3, 0.5) and upper right corner (1.1, 0.7) and the other with lower left corner (0.5, 0.2) and upper right corner (1.1, 2)."
   ]
  },
  {
   "cell_type": "markdown",
   "id": "d513dd86-081e-4c94-964d-86a02d78d532",
   "metadata": {},
   "source": [
    "using System;\n",
    "\n",
    "class Program\n",
    "{\n",
    "    // Function to check if a point (x, y) is inside the rectangle defined by (x1, y1) and (x2, y2)\n",
    "    static bool Inside(double x, double y, double x1, double y1, double x2, double y2)\n",
    "    {\n",
    "        return (x >= x1 && x <= x2 && y >= y1 && y <= y2);\n",
    "    }\n",
    "\n",
    "    static void Main()\n",
    "    {\n",
    "        // Coordinates of the point to test\n",
    "        double pointX = 1;\n",
    "        double pointY = 1;\n",
    "\n",
    "        // Rectangle 1 coordinates (0.3, 0.5) to (1.1, 0.7)\n",
    "        double x1_rect1 = 0.3;\n",
    "        double y1_rect1 = 0.5;\n",
    "        double x2_rect1 = 1.1;\n",
    "        double y2_rect1 = 0.7;\n",
    "\n",
    "        // Rectangle 2 coordinates (0.5, 0.2) to (1.1, 2)\n",
    "        double x1_rect2 = 0.5;\n",
    "        double y1_rect2 = 0.2;\n",
    "        double x2_rect2 = 1.1;\n",
    "        double y2_rect2 = 2;\n",
    "\n",
    "        // Check if the point is inside both rectangles\n",
    "        bool insideRect1 = Inside(pointX, pointY, x1_rect1, y1_rect1, x2_rect1, y2_rect1);\n",
    "        bool insideRect2 = Inside(pointX, pointY, x1_rect2, y1_rect2, x2_rect2, y2_rect2);\n",
    "\n",
    "        // Output the results\n",
    "        Console.WriteLine($\"Point (1,1) inside Rectangle 1: {insideRect1}\");\n",
    "        Console.WriteLine($\"Point (1,1) inside Rectangle 2: {insideRect2}\");\n",
    "\n",
    "        // Check if the point is in both rectangles\n",
    "        bool isInBoth = insideRect1 && insideRect2;\n",
    "        Console.WriteLine($\"Point (1,1) is inside both rectangles: {isInBoth}\");\n",
    "    }\n",
    "}\n"
   ]
  },
  {
   "cell_type": "markdown",
   "id": "0a6076e1-8f32-446a-8f9b-ea180fb2e948",
   "metadata": {},
   "source": [
    "Point (1,1) inside Rectangle 1: False\n",
    "Point (1,1) inside Rectangle 2: True\n",
    "Point (1,1) is inside both rectangles: False"
   ]
  },
  {
   "cell_type": "markdown",
   "id": "e1e1c3a0-8d05-4090-98b3-e25ef28acb88",
   "metadata": {},
   "source": [
    "Question 6 Python\n",
    "16. You can turn a word into pig-Latin using the following two rules (simplified):\n",
    "• If the word starts with a consonant, move that letter to the end and append 'ay'. For example, 'happy' becomes 'appyhay' and 'pencil' becomes 'encilpay'.\n",
    "• If the word starts with a vowel, simply append 'way' to the end of the word. For example, 'enter' becomes 'enterway' and 'other' becomes 'otherway' . For our purposes, there are 5 vowels: a, e, i, o, u (so we count y as a consonant).\n",
    "Write a function pig() that takes a word (i.e., a string) as input and returns its pig- Latin form. Your function should still work if the input word contains upper case characters. Your output should always be lower case however."
   ]
  },
  {
   "cell_type": "code",
   "execution_count": 2,
   "id": "e9d01672-01e8-43a4-9fe8-4c953d3c7c14",
   "metadata": {},
   "outputs": [
    {
     "name": "stdin",
     "output_type": "stream",
     "text": [
      "Enter a word:  Enter\n"
     ]
    },
    {
     "name": "stdout",
     "output_type": "stream",
     "text": [
      "enterway\n"
     ]
    }
   ],
   "source": [
    "def pig(word):\r\n",
    "    # Convert the word to lowercase\r\n",
    "    word = word.lower()\r\n",
    "    \r\n",
    "    # Check if the first letter is a vowel\r\n",
    "    if word[0] in 'aeiou':\r\n",
    "        return word + 'way'  # Append 'way' for words starting with a vowel\r\n",
    "    else:\r\n",
    "        return word[1:] + word[0] + 'ay'  # Move the first letter and append 'ay'\r\n",
    "\r\n",
    "# Get input from the user\r\n",
    "input_word = input(\"Enter a word: \")\r\n",
    "# Call the pig function and print the result\r\n",
    "print(pig(input_word))\r\n",
    "\n"
   ]
  },
  {
   "cell_type": "markdown",
   "id": "50bf002f-1fe9-43b5-a888-9be758bef9fe",
   "metadata": {},
   "source": [
    "Question 7 Python\n",
    "File bloodtype1.txt records blood-types of patients (A, B, AB, O or OO) at a clinic. Write a function bldcount() that reads the file with name name and reports (i.e., prints) how many patients there are in each bloodtype."
   ]
  },
  {
   "cell_type": "code",
   "execution_count": 4,
   "id": "82d778c8-cf5e-4ed6-9d2e-e9b94f6db665",
   "metadata": {},
   "outputs": [
    {
     "name": "stdout",
     "output_type": "stream",
     "text": [
      "There are 15 patients of blood type A.\n",
      "There is 1 patient of blood type B.\n",
      "There are 13 patients of blood type AB.\n",
      "There are 15 patients of blood type O.\n",
      "There are 0 patients of blood type OO.\n"
     ]
    }
   ],
   "source": [
    "def bldcount(filename):\n",
    "    # Initialize to count blood types\n",
    "    blood_types = {'A': 0, 'B': 0, 'AB': 0, 'O': 0, 'OO': 0}\n",
    "    \n",
    "    try:\n",
    "        # Open and read the file\n",
    "        with open(filename, 'r') as file:\n",
    "            # Read blood types from the file\n",
    "            blood_list = file.read().strip().split()\n",
    "        \n",
    "        # Count each blood type\n",
    "        for blood in blood_list:\n",
    "            if blood in blood_types:\n",
    "                blood_types[blood] += 1\n",
    "        \n",
    "        # Print the counts in the specified format\n",
    "        print(f\"There are {blood_types['A']} patients of blood type A.\")\n",
    "        print(f\"There is {blood_types['B']} patient of blood type B.\")\n",
    "        print(f\"There are {blood_types['AB']} patients of blood type AB.\")\n",
    "        print(f\"There are {blood_types['O']} patients of blood type O.\")\n",
    "        print(f\"There are {blood_types['OO']} patients of blood type OO.\")\n",
    "    \n",
    "    except FileNotFoundError:\n",
    "        print(f\"The file '{filename}' was not found.\")\n",
    "    except Exception as e:\n",
    "        print(f\"An error occurred: {e}\")\n",
    "\n",
    "#fectch file from local folder\n",
    "bldcount('bloodtype1.txt')\n"
   ]
  },
  {
   "cell_type": "code",
   "execution_count": null,
   "id": "6680af8e-9fb8-497b-a324-0868fad74ae9",
   "metadata": {},
   "outputs": [],
   "source": [
    "Question 8 Python Write a function curconv() that takes as input:\n",
    "\n",
    "a currency represented using a string (e.g., 'JPY' for the Japanese Yen or 'EUR' for the Euro)\n",
    "an amount and then converts and returns the amount in US dollars"
   ]
  },
  {
   "cell_type": "code",
   "execution_count": 6,
   "id": "b1c49425-2907-4ac4-84a9-7e08d1d8e082",
   "metadata": {},
   "outputs": [
    {
     "name": "stdin",
     "output_type": "stream",
     "text": [
      "Enter currency:  JPY\n",
      "Enter amount:  100\n"
     ]
    },
    {
     "name": "stdout",
     "output_type": "stream",
     "text": [
      "100.0 JPY is equal to 1.24140 USD.\n"
     ]
    }
   ],
   "source": [
    "def curconv(currency, amount):\n",
    "    currencies = {}\n",
    "\n",
    "    # Reading the file\n",
    "    with open('currencies.txt', 'r') as cur_file:  # Use 'with' to ensure the file is properly closed\n",
    "        lines = cur_file.readlines()\n",
    "\n",
    "    # Storing the currency in the key and its corresponding $ value in the value\n",
    "    for x in lines:\n",
    "        parts = x.strip().split('\\t')  # Split on tab characters\n",
    "        if len(parts) >= 2:  # Ensure there are at least two parts\n",
    "            currencies[parts[0]] = parts[1]  # Store the currency code and value\n",
    "\n",
    "    # Check if the currency is in the dictionary\n",
    "    if currency in currencies:\n",
    "        try:\n",
    "            value = float(currencies[currency])  # Convert the value to float\n",
    "            converted_amount = amount * value  # Convert amount to USD\n",
    "            print(f\"{amount} {currency} is equal to {converted_amount:.5f} USD.\")\n",
    "        except ValueError:\n",
    "            print(f\"Could not convert the value for {currency} to float.\")\n",
    "    else:\n",
    "        print(\"Currency not supported.\")\n",
    "\n",
    "\n",
    "currency = input(\"Enter currency: \")\n",
    "amount = float(input(\"Enter amount: \"))\n",
    "curconv(currency, amount)\n"
   ]
  },
  {
   "cell_type": "markdown",
   "id": "8c7506c1-ef81-4674-bb7d-47e306500a5b",
   "metadata": {},
   "source": [
    "Question 9 Python Each of the following will cause an exception (an error). Identify what type of exception each will cause."
   ]
  },
  {
   "cell_type": "markdown",
   "id": "4b4208f6-3e3c-407f-8c6c-7e8f4347a64a",
   "metadata": {},
   "source": [
    "Error\t                                                 Error message\n",
    "\n",
    "Adding incompatible variables (6 + 'a')\t                 TypeError\n",
    "\n",
    "Referring to the 12th item in a list of 10 items\t     IndexError\n",
    "\n",
    "Using a value out of range for a function \n",
    "(e.g., math.sqrt(-1.0))\t                                 ValueError\n",
    "\n",
    "Using an undeclared variable (e.g., print(x))\t         NameError\n",
    "\n",
    "Trying to open a non-existent file\t                     FileNotFoundError\n"
   ]
  },
  {
   "cell_type": "markdown",
   "id": "76d17a18-f135-4412-907e-c05538937ec8",
   "metadata": {},
   "source": [
    "Question 10 Python Encryption is the process of hiding the meaning of a text by substituting letters in the message with other letters, according to some system. If the process is successful, no one but the intended recipient can understand the encrypted message. Cryptanalysis refers to attempts to undo the encryption, even if some details of the encryption are unknown (for example, if an encrypted message has been intercepted). The first step of cryptanalysis is often to build up a table of letter frequencies in the encrypted text. Assume that the string letters is already defined as 'abcdefghijklmnopqrstuvwxyz'. Write a function called frequencies() that takes a string as its only parameter, and returns a list of integers, showing the number of times each character appears in the text. Your function may ignore any characters that are not in letters."
   ]
  },
  {
   "cell_type": "code",
   "execution_count": 13,
   "id": "d4983852-5d3f-461a-8967-52952b7c15ab",
   "metadata": {},
   "outputs": [
    {
     "name": "stdin",
     "output_type": "stream",
     "text": [
      "Enter the text:  The quick red fox got bored and went home\n"
     ]
    },
    {
     "name": "stdout",
     "output_type": "stream",
     "text": [
      "Letter frequencies: [1, 1, 1, 3, 5, 1, 1, 2, 1, 0, 1, 0, 1, 2, 4, 0, 1, 2, 0, 3, 1, 0, 1, 1, 0, 0]\n"
     ]
    }
   ],
   "source": [
    "def frequencies(text):\n",
    "    # Define the string of letters\n",
    "    letters = 'abcdefghijklmnopqrstuvwxyz'\n",
    "    \n",
    "    # Initialize a list of 26 zeros \n",
    "    freq_list = [0] * 26\n",
    "    \n",
    "    # Convert the text to lowercase \n",
    "    text = text.lower()\n",
    "    \n",
    "    # Count the frequency of each letter in the text\n",
    "    for char in text:\n",
    "        if char in letters:  # Check if the character is a letter\n",
    "            index = letters.index(char)  # Find the index of the letter\n",
    "            freq_list[index] += 1  # Increment the count for that letter\n",
    "            \n",
    "    return freq_list\n",
    "\n",
    "input_text = input(\"Enter the text: \")\n",
    "result = frequencies(input_text)\n",
    "print(\"Letter frequencies:\", result)"
   ]
  }
 ],
 "metadata": {
  "kernelspec": {
   "display_name": "Python 3 (ipykernel)",
   "language": "python",
   "name": "python3"
  },
  "language_info": {
   "codemirror_mode": {
    "name": "ipython",
    "version": 3
   },
   "file_extension": ".py",
   "mimetype": "text/x-python",
   "name": "python",
   "nbconvert_exporter": "python",
   "pygments_lexer": "ipython3",
   "version": "3.12.4"
  }
 },
 "nbformat": 4,
 "nbformat_minor": 5
}
